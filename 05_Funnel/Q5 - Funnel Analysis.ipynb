{
 "cells": [
  {
   "cell_type": "markdown",
   "metadata": {},
   "source": [
    "# Part 1 Read Data and Static Visualization"
   ]
  },
  {
   "cell_type": "code",
   "execution_count": 85,
   "metadata": {},
   "outputs": [
    {
     "data": {
      "text/plain": [
       "'3.1.0'"
      ]
     },
     "execution_count": 85,
     "metadata": {},
     "output_type": "execute_result"
    }
   ],
   "source": [
    "import pandas as pd\n",
    "import matplotlib.pyplot as plt\n",
    "import plotly\n",
    "plotly.__version__"
   ]
  },
  {
   "cell_type": "code",
   "execution_count": 86,
   "metadata": {
    "collapsed": true
   },
   "outputs": [],
   "source": [
    "User = pd.read_csv(\"user_table.csv\")\n",
    "Home = pd.read_csv(\"home_page_table.csv\")\n",
    "PayConfirm = pd.read_csv(\"payment_confirmation_table.csv\")\n",
    "Pay = pd.read_csv(\"payment_page_table.csv\")\n",
    "Search = pd.read_csv(\"search_page_table.csv\")"
   ]
  },
  {
   "cell_type": "code",
   "execution_count": 87,
   "metadata": {},
   "outputs": [
    {
     "name": "stdout",
     "output_type": "stream",
     "text": [
      "   user_id        date   device     sex\n",
      "0   450007  2015-02-28  Desktop  Female\n",
      "1   756838  2015-01-13  Desktop    Male\n",
      "2   568983  2015-04-09  Desktop    Male\n",
      "3   190794  2015-02-18  Desktop  Female\n",
      "4   537909  2015-01-15  Desktop    Male\n",
      "\n",
      "\n",
      "\n",
      "\n",
      "user_id     int64\n",
      "date       object\n",
      "device     object\n",
      "sex        object\n",
      "dtype: object\n",
      "\n",
      "\n",
      "\n",
      "\n",
      "              user_id        date   device    sex\n",
      "count    90400.000000       90400    90400  90400\n",
      "unique            NaN         120        2      2\n",
      "top               NaN  2015-02-08  Desktop   Male\n",
      "freq              NaN         877    60200  45325\n",
      "mean    498709.683473         NaN      NaN    NaN\n",
      "std     289040.674085         NaN      NaN    NaN\n",
      "min         17.000000         NaN      NaN    NaN\n",
      "25%     247978.750000         NaN      NaN    NaN\n",
      "50%     498267.000000         NaN      NaN    NaN\n",
      "75%     749789.250000         NaN      NaN    NaN\n",
      "max     999979.000000         NaN      NaN    NaN\n",
      "\n",
      "\n",
      "\n",
      "\n",
      "Desktop    60200\n",
      "Mobile     30200\n",
      "Name: device, dtype: int64\n",
      "\n",
      "\n",
      "\n",
      "\n",
      "Male      45325\n",
      "Female    45075\n",
      "Name: sex, dtype: int64\n"
     ]
    }
   ],
   "source": [
    "# Check User Table\n",
    "print(User.head(5))\n",
    "print('\\n\\n\\n')\n",
    "print(User.dtypes)\n",
    "print('\\n\\n\\n')\n",
    "print(User.describe(include = 'all'))\n",
    "print('\\n\\n\\n')\n",
    "print(User['device'].value_counts())\n",
    "print('\\n\\n\\n')\n",
    "print(User['sex'].value_counts())"
   ]
  },
  {
   "cell_type": "code",
   "execution_count": 88,
   "metadata": {
    "collapsed": true
   },
   "outputs": [],
   "source": [
    "# Convert date to Datetime format\n",
    "User['date'] = pd.to_datetime(User['date'], format=\"%Y-%m-%d\")"
   ]
  },
  {
   "cell_type": "code",
   "execution_count": 89,
   "metadata": {},
   "outputs": [
    {
     "name": "stdout",
     "output_type": "stream",
     "text": [
      "   user_id       page\n",
      "0   313593  home_page\n",
      "1   468315  home_page\n",
      "2   264005  home_page\n",
      "3   290784  home_page\n",
      "4   639104  home_page\n",
      "\n",
      "\n",
      "\n",
      "\n",
      "user_id     int64\n",
      "page       object\n",
      "dtype: object\n",
      "\n",
      "\n",
      "\n",
      "\n",
      "              user_id       page\n",
      "count    90400.000000      90400\n",
      "unique            NaN          1\n",
      "top               NaN  home_page\n",
      "freq              NaN      90400\n",
      "mean    498709.683473        NaN\n",
      "std     289040.674085        NaN\n",
      "min         17.000000        NaN\n",
      "25%     247978.750000        NaN\n",
      "50%     498267.000000        NaN\n",
      "75%     749789.250000        NaN\n",
      "max     999979.000000        NaN\n",
      "\n",
      "\n",
      "\n",
      "\n"
     ]
    }
   ],
   "source": [
    "# Check Home Table\n",
    "print(Home.head(5))\n",
    "print('\\n\\n\\n')\n",
    "print(Home.dtypes)\n",
    "print('\\n\\n\\n')\n",
    "print(Home.describe(include = 'all'))\n",
    "print('\\n\\n\\n')"
   ]
  },
  {
   "cell_type": "code",
   "execution_count": 90,
   "metadata": {
    "collapsed": true
   },
   "outputs": [],
   "source": [
    "# change column names\n",
    "Home.rename(columns={'page': 'HomePage'}, inplace=True)\n",
    "PayConfirm.rename(columns={'page': 'ConfirmPage'}, inplace=True)\n",
    "Pay.rename(columns={'page': 'PayPage'}, inplace=True)\n",
    "Search.rename(columns={'page': 'SearchPage'}, inplace=True)"
   ]
  },
  {
   "cell_type": "code",
   "execution_count": 91,
   "metadata": {
    "collapsed": true
   },
   "outputs": [],
   "source": [
    "# Merge tables\n",
    "Funnel = User.merge(Home, on = 'user_id', how = 'outer').merge(Search, on = 'user_id', how = 'outer').merge(Pay, on = 'user_id', how = 'outer').merge(PayConfirm, on = 'user_id', how = 'outer')"
   ]
  },
  {
   "cell_type": "code",
   "execution_count": 92,
   "metadata": {},
   "outputs": [
    {
     "data": {
      "text/html": [
       "<div>\n",
       "<style>\n",
       "    .dataframe thead tr:only-child th {\n",
       "        text-align: right;\n",
       "    }\n",
       "\n",
       "    .dataframe thead th {\n",
       "        text-align: left;\n",
       "    }\n",
       "\n",
       "    .dataframe tbody tr th {\n",
       "        vertical-align: top;\n",
       "    }\n",
       "</style>\n",
       "<table border=\"1\" class=\"dataframe\">\n",
       "  <thead>\n",
       "    <tr style=\"text-align: right;\">\n",
       "      <th></th>\n",
       "      <th>user_id</th>\n",
       "      <th>date</th>\n",
       "      <th>device</th>\n",
       "      <th>sex</th>\n",
       "      <th>HomePage</th>\n",
       "      <th>SearchPage</th>\n",
       "      <th>PayPage</th>\n",
       "      <th>ConfirmPage</th>\n",
       "    </tr>\n",
       "  </thead>\n",
       "  <tbody>\n",
       "    <tr>\n",
       "      <th>count</th>\n",
       "      <td>90400.000000</td>\n",
       "      <td>90400</td>\n",
       "      <td>90400</td>\n",
       "      <td>90400</td>\n",
       "      <td>90400</td>\n",
       "      <td>45200</td>\n",
       "      <td>6030</td>\n",
       "      <td>452</td>\n",
       "    </tr>\n",
       "    <tr>\n",
       "      <th>unique</th>\n",
       "      <td>NaN</td>\n",
       "      <td>120</td>\n",
       "      <td>2</td>\n",
       "      <td>2</td>\n",
       "      <td>1</td>\n",
       "      <td>1</td>\n",
       "      <td>1</td>\n",
       "      <td>1</td>\n",
       "    </tr>\n",
       "    <tr>\n",
       "      <th>top</th>\n",
       "      <td>NaN</td>\n",
       "      <td>2015-02-08 00:00:00</td>\n",
       "      <td>Desktop</td>\n",
       "      <td>Male</td>\n",
       "      <td>home_page</td>\n",
       "      <td>search_page</td>\n",
       "      <td>payment_page</td>\n",
       "      <td>payment_confirmation_page</td>\n",
       "    </tr>\n",
       "    <tr>\n",
       "      <th>freq</th>\n",
       "      <td>NaN</td>\n",
       "      <td>877</td>\n",
       "      <td>60200</td>\n",
       "      <td>45325</td>\n",
       "      <td>90400</td>\n",
       "      <td>45200</td>\n",
       "      <td>6030</td>\n",
       "      <td>452</td>\n",
       "    </tr>\n",
       "    <tr>\n",
       "      <th>first</th>\n",
       "      <td>NaN</td>\n",
       "      <td>2015-01-01 00:00:00</td>\n",
       "      <td>NaN</td>\n",
       "      <td>NaN</td>\n",
       "      <td>NaN</td>\n",
       "      <td>NaN</td>\n",
       "      <td>NaN</td>\n",
       "      <td>NaN</td>\n",
       "    </tr>\n",
       "    <tr>\n",
       "      <th>last</th>\n",
       "      <td>NaN</td>\n",
       "      <td>2015-04-30 00:00:00</td>\n",
       "      <td>NaN</td>\n",
       "      <td>NaN</td>\n",
       "      <td>NaN</td>\n",
       "      <td>NaN</td>\n",
       "      <td>NaN</td>\n",
       "      <td>NaN</td>\n",
       "    </tr>\n",
       "    <tr>\n",
       "      <th>mean</th>\n",
       "      <td>498709.683473</td>\n",
       "      <td>NaN</td>\n",
       "      <td>NaN</td>\n",
       "      <td>NaN</td>\n",
       "      <td>NaN</td>\n",
       "      <td>NaN</td>\n",
       "      <td>NaN</td>\n",
       "      <td>NaN</td>\n",
       "    </tr>\n",
       "    <tr>\n",
       "      <th>std</th>\n",
       "      <td>289040.674085</td>\n",
       "      <td>NaN</td>\n",
       "      <td>NaN</td>\n",
       "      <td>NaN</td>\n",
       "      <td>NaN</td>\n",
       "      <td>NaN</td>\n",
       "      <td>NaN</td>\n",
       "      <td>NaN</td>\n",
       "    </tr>\n",
       "    <tr>\n",
       "      <th>min</th>\n",
       "      <td>17.000000</td>\n",
       "      <td>NaN</td>\n",
       "      <td>NaN</td>\n",
       "      <td>NaN</td>\n",
       "      <td>NaN</td>\n",
       "      <td>NaN</td>\n",
       "      <td>NaN</td>\n",
       "      <td>NaN</td>\n",
       "    </tr>\n",
       "    <tr>\n",
       "      <th>25%</th>\n",
       "      <td>247978.750000</td>\n",
       "      <td>NaN</td>\n",
       "      <td>NaN</td>\n",
       "      <td>NaN</td>\n",
       "      <td>NaN</td>\n",
       "      <td>NaN</td>\n",
       "      <td>NaN</td>\n",
       "      <td>NaN</td>\n",
       "    </tr>\n",
       "    <tr>\n",
       "      <th>50%</th>\n",
       "      <td>498267.000000</td>\n",
       "      <td>NaN</td>\n",
       "      <td>NaN</td>\n",
       "      <td>NaN</td>\n",
       "      <td>NaN</td>\n",
       "      <td>NaN</td>\n",
       "      <td>NaN</td>\n",
       "      <td>NaN</td>\n",
       "    </tr>\n",
       "    <tr>\n",
       "      <th>75%</th>\n",
       "      <td>749789.250000</td>\n",
       "      <td>NaN</td>\n",
       "      <td>NaN</td>\n",
       "      <td>NaN</td>\n",
       "      <td>NaN</td>\n",
       "      <td>NaN</td>\n",
       "      <td>NaN</td>\n",
       "      <td>NaN</td>\n",
       "    </tr>\n",
       "    <tr>\n",
       "      <th>max</th>\n",
       "      <td>999979.000000</td>\n",
       "      <td>NaN</td>\n",
       "      <td>NaN</td>\n",
       "      <td>NaN</td>\n",
       "      <td>NaN</td>\n",
       "      <td>NaN</td>\n",
       "      <td>NaN</td>\n",
       "      <td>NaN</td>\n",
       "    </tr>\n",
       "  </tbody>\n",
       "</table>\n",
       "</div>"
      ],
      "text/plain": [
       "              user_id                 date   device    sex   HomePage  \\\n",
       "count    90400.000000                90400    90400  90400      90400   \n",
       "unique            NaN                  120        2      2          1   \n",
       "top               NaN  2015-02-08 00:00:00  Desktop   Male  home_page   \n",
       "freq              NaN                  877    60200  45325      90400   \n",
       "first             NaN  2015-01-01 00:00:00      NaN    NaN        NaN   \n",
       "last              NaN  2015-04-30 00:00:00      NaN    NaN        NaN   \n",
       "mean    498709.683473                  NaN      NaN    NaN        NaN   \n",
       "std     289040.674085                  NaN      NaN    NaN        NaN   \n",
       "min         17.000000                  NaN      NaN    NaN        NaN   \n",
       "25%     247978.750000                  NaN      NaN    NaN        NaN   \n",
       "50%     498267.000000                  NaN      NaN    NaN        NaN   \n",
       "75%     749789.250000                  NaN      NaN    NaN        NaN   \n",
       "max     999979.000000                  NaN      NaN    NaN        NaN   \n",
       "\n",
       "         SearchPage       PayPage                ConfirmPage  \n",
       "count         45200          6030                        452  \n",
       "unique            1             1                          1  \n",
       "top     search_page  payment_page  payment_confirmation_page  \n",
       "freq          45200          6030                        452  \n",
       "first           NaN           NaN                        NaN  \n",
       "last            NaN           NaN                        NaN  \n",
       "mean            NaN           NaN                        NaN  \n",
       "std             NaN           NaN                        NaN  \n",
       "min             NaN           NaN                        NaN  \n",
       "25%             NaN           NaN                        NaN  \n",
       "50%             NaN           NaN                        NaN  \n",
       "75%             NaN           NaN                        NaN  \n",
       "max             NaN           NaN                        NaN  "
      ]
     },
     "execution_count": 92,
     "metadata": {},
     "output_type": "execute_result"
    }
   ],
   "source": [
    "Funnel.describe(include = 'all')"
   ]
  },
  {
   "cell_type": "code",
   "execution_count": 93,
   "metadata": {
    "collapsed": true
   },
   "outputs": [],
   "source": [
    "DateCount = Funnel[['date', 'HomePage', 'SearchPage', 'PayPage', 'ConfirmPage']].groupby(['date']).agg(['count'])"
   ]
  },
  {
   "cell_type": "code",
   "execution_count": 94,
   "metadata": {
    "collapsed": true
   },
   "outputs": [],
   "source": [
    "# DateCount.set_axis(['Date', 'UserCount - HomePage', 'UserCount - SearchPage', 'UserCount - PayPage', 'ConfirmPage'], axis='columns', inplace=False)\n",
    "DateCount.columns = ['UserCount - HomePage', 'UserCount - SearchPage', 'UserCount - PayPage', 'UserCount - ConfirmPage']"
   ]
  },
  {
   "cell_type": "code",
   "execution_count": 96,
   "metadata": {},
   "outputs": [
    {
     "data": {
      "image/png": "[encoded data removed]",
      "text/plain": [
       "<matplotlib.figure.Figure at 0x1a1be599e8>"
      ]
     },
     "metadata": {},
     "output_type": "display_data"
    },
    {
     "data": {
      "image/png": "[encoded data removed]",
      "text/plain": [
       "<matplotlib.figure.Figure at 0x10e2c4ba8>"
      ]
     },
     "metadata": {},
     "output_type": "display_data"
    }
   ],
   "source": [
    "\n",
    "DateCount.plot()\n",
    "plt.ylabel('Total Users')\n",
    "plt.title('Count Users')\n",
    "plt.show()\n",
    "\n",
    "DateCount['UserCount - ConfirmPage'].plot()\n",
    "plt.ylabel('Total Users Who Make Payment')\n",
    "plt.title('Count Users')\n",
    "plt.show()"
   ]
  },
  {
   "cell_type": "code",
   "execution_count": 97,
   "metadata": {},
   "outputs": [
    {
     "data": {
      "image/png": "[encoded data removed]",
      "text/plain": [
       "<matplotlib.figure.Figure at 0x1a1c1aaef0>"
      ]
     },
     "metadata": {},
     "output_type": "display_data"
    },
    {
     "data": {
      "image/png": "[encoded data removed]",
      "text/plain": [
       "<matplotlib.figure.Figure at 0x1a1ac2cd30>"
      ]
     },
     "metadata": {},
     "output_type": "display_data"
    }
   ],
   "source": [
    "DeviceCount = Funnel[['device', 'HomePage', 'SearchPage', 'PayPage', 'ConfirmPage']].groupby(['device']).agg(['count'])\n",
    "DeviceCount.columns = ['UserCount - HomePage', 'UserCount - SearchPage', 'UserCount - PayPage', 'UserCount - ConfirmPage']\n",
    "DeviceCount.plot(kind = 'bar')\n",
    "plt.ylabel('Total Users')\n",
    "plt.title('Count Users')\n",
    "plt.show()\n",
    "\n",
    "DeviceCount['UserCount - ConfirmPage'].plot(kind = 'pie', autopct='%1.0f%%')\n",
    "plt.ylabel('Total Users Who Make Payment')\n",
    "plt.title('Count Users')\n",
    "plt.show()"
   ]
  },
  {
   "cell_type": "code",
   "execution_count": 98,
   "metadata": {},
   "outputs": [
    {
     "data": {
      "image/png": "[encoded data removed]",
      "text/plain": [
       "<matplotlib.figure.Figure at 0x1a1be7b780>"
      ]
     },
     "metadata": {},
     "output_type": "display_data"
    },
    {
     "data": {
      "image/png": "[encoded data removed]",
      "text/plain": [
       "<matplotlib.figure.Figure at 0x1a1be7dac8>"
      ]
     },
     "metadata": {},
     "output_type": "display_data"
    }
   ],
   "source": [
    "GenderCount = Funnel[['sex', 'HomePage', 'SearchPage', 'PayPage', 'ConfirmPage']].groupby(['sex']).agg(['count'])\n",
    "GenderCount.columns = ['UserCount - HomePage', 'UserCount - SearchPage', 'UserCount - PayPage', 'UserCount - ConfirmPage']\n",
    "GenderCount.plot(kind = 'bar')\n",
    "plt.ylabel('Total Users')\n",
    "plt.title('Count Users')\n",
    "plt.show()\n",
    "\n",
    "colors = ['c', 'y']\n",
    "explode = (0, 0.1)\n",
    "GenderCount['UserCount - ConfirmPage'].plot(kind = 'pie', autopct='%1.0f%%',pctdistance=1.1, labeldistance=1.2, explode=explode, shadow=True, colors = colors)\n",
    "plt.ylabel('Total Users Who Make Payment')\n",
    "plt.title('Count Users')\n",
    "plt.show()"
   ]
  },
  {
   "cell_type": "markdown",
   "metadata": {},
   "source": [
    "## Part 1 Conclusion\n",
    "1. Total user for all pages significantly dropped down since the beginning of May. We need to check what happened both internal and external to identify the reasons.\n",
    "2. Much more users login the website via Desktop, but more mobile users finally make payment. We need to compare the differences.\n",
    "3. The gender didn't affect conversion rate."
   ]
  },
  {
   "cell_type": "markdown",
   "metadata": {},
   "source": [
    "# Part 2 Funnel Analysis"
   ]
  },
  {
   "cell_type": "code",
   "execution_count": 99,
   "metadata": {},
   "outputs": [],
   "source": [
    "import plotly.plotly as py\n",
    "import plotly.figure_factory as ff\n"
   ]
  },
  {
   "cell_type": "code",
   "execution_count": 100,
   "metadata": {
    "collapsed": true
   },
   "outputs": [],
   "source": [
    "import plotly\n",
    "plotly.tools.set_credentials_file(username='Tropic', api_key='CC7VWMzYuHd3BxuFJ5pE')"
   ]
  },
  {
   "cell_type": "code",
   "execution_count": 101,
   "metadata": {},
   "outputs": [
    {
     "data": {
      "text/html": [
       "<iframe id=\"igraph\" scrolling=\"no\" style=\"border:none;\" seamless=\"seamless\" src=\"https://plot.ly/~Tropic/24.embed\" height=\"200px\" width=\"100%\"></iframe>"
      ],
      "text/plain": [
       "<plotly.tools.PlotlyDisplay object>"
      ]
     },
     "execution_count": 101,
     "metadata": {},
     "output_type": "execute_result"
    }
   ],
   "source": [
    "data_table = [['Phases', 'Values'],\n",
    "               ['HomePage', Funnel['HomePage'].count()],\n",
    "               ['SearchPage', Funnel['SearchPage'].count()],\n",
    "               ['PayPage', Funnel['PayPage'].count()],\n",
    "               ['ConfirmPage', Funnel['ConfirmPage'].count()]]\n",
    "\n",
    "table = ff.create_table(data_table)\n",
    "py.iplot(table)"
   ]
  },
  {
   "cell_type": "code",
   "execution_count": 102,
   "metadata": {},
   "outputs": [],
   "source": [
    "import  plotly.plotly  as py\n",
    "from plotly import graph_objs as go\n",
    "\n",
    "from __future__ import division\n",
    "\n",
    "# chart stages data\n",
    "values = [Funnel['HomePage'].count(), Funnel['SearchPage'].count(), Funnel['PayPage'].count(), Funnel['ConfirmPage'].count()]\n",
    "phases = ['Home', 'Search', 'Pay', 'Confirm']\n",
    "\n",
    "# color of each funnel section\n",
    "colors = ['rgb(32,155,160)', 'rgb(253,93,124)', 'rgb(28,119,139)', 'rgb(182,231,235)']"
   ]
  },
  {
   "cell_type": "code",
   "execution_count": 103,
   "metadata": {
    "collapsed": true
   },
   "outputs": [],
   "source": [
    "n_phase = len(phases)\n",
    "plot_width = 400\n",
    "\n",
    "# height of a section and difference between sections \n",
    "section_h = 100\n",
    "section_d = 10\n",
    "\n",
    "# multiplication factor to calculate the width of other sections\n",
    "unit_width = plot_width / max(values)\n",
    "\n",
    "# width of each funnel section relative to the plot width\n",
    "phase_w = [int(value * unit_width) for value in values]\n",
    "\n",
    "# plot height based on the number of sections and the gap in between them\n",
    "height = section_h * n_phase + section_d * (n_phase - 1)"
   ]
  },
  {
   "cell_type": "code",
   "execution_count": 104,
   "metadata": {
    "collapsed": true
   },
   "outputs": [],
   "source": [
    "# list containing all the plot shapes\n",
    "shapes = []\n",
    "\n",
    "# list containing the Y-axis location for each section's name and value text\n",
    "label_y = []\n",
    "\n",
    "for i in range(n_phase):\n",
    "        if (i == n_phase-1):\n",
    "                points = [phase_w[i] / 2, height, phase_w[i] / 2, height - section_h]\n",
    "        else:\n",
    "                points = [phase_w[i] / 2, height, phase_w[i+1] / 2, height - section_h]\n",
    "\n",
    "        path = 'M {0} {1} L {2} {3} L -{2} {3} L -{0} {1} Z'.format(*points)\n",
    "\n",
    "        shape = {\n",
    "                'type': 'path',\n",
    "                'path': path,\n",
    "                'fillcolor': colors[i],\n",
    "                'line': {\n",
    "                    'width': 1,\n",
    "                    'color': colors[i]\n",
    "                }\n",
    "        }\n",
    "        shapes.append(shape)\n",
    "        \n",
    "        # Y-axis location for this section's details (text)\n",
    "        label_y.append(height - (section_h / 2))\n",
    "\n",
    "        height = height - (section_h + section_d)"
   ]
  },
  {
   "cell_type": "code",
   "execution_count": 105,
   "metadata": {},
   "outputs": [
    {
     "data": {
      "text/html": [
       "<iframe id=\"igraph\" scrolling=\"no\" style=\"border:none;\" seamless=\"seamless\" src=\"https://plot.ly/~Tropic/26.embed\" height=\"560px\" width=\"600px\"></iframe>"
      ],
      "text/plain": [
       "<plotly.tools.PlotlyDisplay object>"
      ]
     },
     "execution_count": 105,
     "metadata": {},
     "output_type": "execute_result"
    }
   ],
   "source": [
    "# For phase names\n",
    "label_trace = go.Scatter(\n",
    "    x=[-350]*n_phase,\n",
    "    y=label_y,\n",
    "    mode='text',\n",
    "    text=phases,\n",
    "    textfont=dict(\n",
    "        color='rgb(200,200,200)',\n",
    "        size=12\n",
    "    )\n",
    ")\n",
    " \n",
    "# For phase values\n",
    "value_trace = go.Scatter(\n",
    "    x=[350]*n_phase,\n",
    "    y=label_y,\n",
    "    mode='text',\n",
    "    text=values,\n",
    "    textfont=dict(\n",
    "        color='rgb(200,200,200)',\n",
    "        size=15\n",
    "    )\n",
    ")\n",
    "\n",
    "data = [label_trace, value_trace]\n",
    " \n",
    "layout = go.Layout(\n",
    "    title=\"<b>Funnel Chart</b>\",\n",
    "    titlefont=dict(\n",
    "        size=20,\n",
    "        color='rgb(203,203,203)'\n",
    "    ),\n",
    "    shapes=shapes,\n",
    "    height=560,\n",
    "    width=600,\n",
    "    showlegend=False,\n",
    "    paper_bgcolor='rgba(44,58,71,1)',\n",
    "    plot_bgcolor='rgba(44,58,71,1)',\n",
    "    xaxis=dict(\n",
    "        showticklabels=False,\n",
    "        zeroline=False,\n",
    "    ),\n",
    "    yaxis=dict(\n",
    "        showticklabels=False,\n",
    "        zeroline=False\n",
    "    )\n",
    ")\n",
    " \n",
    "fig = go.Figure(data=data, layout=layout)\n",
    "py.iplot(fig)"
   ]
  },
  {
   "cell_type": "code",
   "execution_count": 106,
   "metadata": {
    "collapsed": true
   },
   "outputs": [],
   "source": [
    "# campaign data\n",
    "df = DeviceCount.T\n",
    " \n",
    "# color for each segment\n",
    "colors = ['rgb(63,92,128)', 'rgb(90,131,182)']\n",
    "\n",
    "total = [sum(row[1]) for row in df.iterrows()]\n",
    "n_phase, n_seg = df.shape\n",
    "\n",
    "plot_width = 400\n",
    "unit_width = plot_width / total[0]\n",
    " \n",
    "phase_w = [int(value * unit_width) for value in total]\n",
    " \n",
    "# height of a section and difference between sections \n",
    "section_h = 100\n",
    "section_d = 10\n",
    "\n",
    "# shapes of the plot\n",
    "shapes = []\n",
    " \n",
    "# plot traces data\n",
    "data = []\n",
    " \n",
    "# height of the phase labels\n",
    "label_y = []\n",
    "\n",
    "height = section_h * n_phase + section_d * (n_phase-1)\n",
    "\n",
    "# rows of the DataFrame\n",
    "df_rows = list(df.iterrows())\n",
    "\n",
    "# iteration over all the phases\n",
    "for i in range(n_phase):\n",
    "    # phase name\n",
    "    row_name = df.index[i]\n",
    "    \n",
    "    # width of each segment (smaller rectangles) will be calculated\n",
    "    # according to their contribution in the total users of phase\n",
    "    seg_unit_width = phase_w[i] / total[i]\n",
    "    seg_w = [int(df_rows[i][1][j] * seg_unit_width) for j in range(n_seg)]\n",
    "    \n",
    "    # starting point of segment (the rectangle shape) on the X-axis\n",
    "    xl = -1 * (phase_w[i] / 2)\n",
    "    \n",
    "    # iteration over all the segments\n",
    "    for j in range(n_seg):\n",
    "        # name of the segment\n",
    "        seg_name = df.columns[j]\n",
    "        \n",
    "        # corner points of a segment used in the SVG path\n",
    "        points = [xl, height, xl + seg_w[j], height, xl + seg_w[j], height - section_h, xl, height - section_h]\n",
    "        path = 'M {0} {1} L {2} {3} L {4} {5} L {6} {7} Z'.format(*points)\n",
    "        \n",
    "        shape = {\n",
    "                'type': 'path',\n",
    "                'path': path,\n",
    "                'fillcolor': colors[j],\n",
    "                'line': {\n",
    "                    'width': 1,\n",
    "                    'color': colors[j]\n",
    "                }\n",
    "        }\n",
    "        shapes.append(shape)\n",
    "        \n",
    "        # to support hover on shapes\n",
    "        hover_trace = go.Scatter(\n",
    "            x=[xl + (seg_w[j] / 2)],\n",
    "            y=[height - (section_h / 2)],\n",
    "            mode='markers',\n",
    "            marker=dict(\n",
    "                size=min(seg_w[j]/2, (section_h / 2)),\n",
    "                color='rgba(255,255,255,1)'\n",
    "            ),\n",
    "            text=\"Segment : %s\" % (seg_name),\n",
    "            name=\"Value : %d\" % (df[seg_name][row_name])\n",
    "        )\n",
    "        data.append(hover_trace)\n",
    "        \n",
    "        xl = xl + seg_w[j]\n",
    "\n",
    "    label_y.append(height - (section_h / 2))\n",
    "\n",
    "    height = height - (section_h + section_d)"
   ]
  },
  {
   "cell_type": "code",
   "execution_count": 107,
   "metadata": {},
   "outputs": [],
   "source": [
    "# For phase names\n",
    "label_trace = go.Scatter(\n",
    "    x=[-350]*n_phase,\n",
    "    y=label_y,\n",
    "    mode='text',\n",
    "    text=df.index.tolist(),\n",
    "    textfont=dict(\n",
    "        color='rgb(200,200,200)',\n",
    "        size=15\n",
    "    )\n",
    ")\n",
    "\n",
    "data.append(label_trace)\n",
    " \n",
    "# For phase values (total)\n",
    "value_trace = go.Scatter(\n",
    "    x=[350]*n_phase,\n",
    "    y=label_y,\n",
    "    mode='text',\n",
    "    text=total,\n",
    "    textfont=dict(\n",
    "        color='rgb(200,200,200)',\n",
    "        size=15\n",
    "    )\n",
    ")\n",
    "\n",
    "data.append(value_trace)\n",
    "\n"
   ]
  },
  {
   "cell_type": "code",
   "execution_count": 108,
   "metadata": {},
   "outputs": [
    {
     "data": {
      "text/html": [
       "<iframe id=\"igraph\" scrolling=\"no\" style=\"border:none;\" seamless=\"seamless\" src=\"https://plot.ly/~Tropic/28.embed\" height=\"525px\" width=\"100%\"></iframe>"
      ],
      "text/plain": [
       "<plotly.tools.PlotlyDisplay object>"
      ]
     },
     "execution_count": 108,
     "metadata": {},
     "output_type": "execute_result"
    }
   ],
   "source": [
    "layout = go.Layout(\n",
    "    title=\"<b>Segmented Funnel Chart</b>\",\n",
    "    titlefont=dict(\n",
    "        size=20,\n",
    "        color='rgb(230,230,230)'\n",
    "    ),\n",
    "    hovermode='closest',\n",
    "    shapes=shapes,\n",
    "    showlegend=False,\n",
    "    paper_bgcolor='rgba(44,58,71,1)',\n",
    "    plot_bgcolor='rgba(44,58,71,1)',\n",
    "    xaxis=dict(\n",
    "        showticklabels=False,\n",
    "        zeroline=False,\n",
    "    ),\n",
    "    yaxis=dict(\n",
    "        showticklabels=False,\n",
    "        zeroline=False\n",
    "    )\n",
    ")\n",
    "\n",
    "fig = go.Figure(data=data, layout=layout)\n",
    "py.iplot(fig)"
   ]
  },
  {
   "cell_type": "markdown",
   "metadata": {},
   "source": [
    "## Analyze Drop Out Rate from Payment Page\n",
    "\n",
    "The first step of most e-Commerce checkout funnels starts with the cart. The visitor adds a product to the cart and then clicks “Proceed to checkout.”\n",
    "\n",
    "This first step traditionally sees the largest dropout rate of all steps. According to a Baymard study, 69% of all online customers abandon the cart in their first step, just after adding the product.\n",
    "\n",
    "When a prospect adds a product to the cart, but does not proceed further, it’s called cart abandonment — and it represents a large issue for e-Commerce retailers. The Baymard study also gives the average rate of shopping cart abandonment in e-Commerce stores as 75%.\n",
    "\n",
    "The problem with this step in the funnel is that you may not know why the customer added the product to the cart. They might be testing the water, checking the shipping price, or may even have added it by mistake. Without knowing why your prospect did not proceed with checkout, it is hard to improve the entry point."
   ]
  },
  {
   "cell_type": "code",
   "execution_count": null,
   "metadata": {
    "collapsed": true
   },
   "outputs": [],
   "source": []
  }
 ],
 "metadata": {
  "kernelspec": {
   "display_name": "Python 3",
   "language": "python",
   "name": "python3"
  },
  "language_info": {
   "codemirror_mode": {
    "name": "ipython",
    "version": 3
   },
   "file_extension": ".py",
   "mimetype": "text/x-python",
   "name": "python",
   "nbconvert_exporter": "python",
   "pygments_lexer": "ipython3",
   "version": "3.6.3"
  }
 },
 "nbformat": 4,
 "nbformat_minor": 2
}
